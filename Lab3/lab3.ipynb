{
 "cells": [
  {
   "cell_type": "markdown",
   "id": "50ea6ff7",
   "metadata": {},
   "source": [
    "#Математические пакеты"
   ]
  },
  {
   "cell_type": "markdown",
   "id": "31d2aa5d",
   "metadata": {},
   "source": [
    "##Лабораторная работа №3"
   ]
  },
  {
   "cell_type": "markdown",
   "id": "e47bc3de",
   "metadata": {},
   "source": [
    "Выполнил студент группы 9381, Игнашов В.М."
   ]
  },
  {
   "cell_type": "markdown",
   "id": "dd14ee2a",
   "metadata": {},
   "source": [
    "###Цель работы\n",
    "\n",
    "Практическое применение библиотеки символьных вычислений Python(SymPy) для решения задач дискретной математики и математической логики\n",
    "\n",
    "###Задание\n",
    "\n",
    "**Вариант №6.**\n",
    "\n",
    "1. Решить диофантово уравнение\n",
    "2. Имея открытую часть ключа RSA найти соответствующую закрытую часть и расшифровать закодированное слово\n",
    "3. Записать в формате ДНФ и КНФ булеву функцию, заданную аналитическим выражением"
   ]
  },
  {
   "cell_type": "markdown",
   "id": "85ecd36a",
   "metadata": {},
   "source": [
    "###Выполнение работы"
   ]
  },
  {
   "cell_type": "markdown",
   "id": "bc0e1007",
   "metadata": {},
   "source": [
    "####Задание №1."
   ]
  },
  {
   "cell_type": "markdown",
   "id": "4d52a719",
   "metadata": {},
   "source": [
    "*Решить диофантово уравнение **2691x-1508y=26**"
   ]
  },
  {
   "cell_type": "code",
   "execution_count": 7,
   "id": "b0a3495b",
   "metadata": {},
   "outputs": [
    {
     "name": "stdout",
     "output_type": "stream",
     "text": [
      "{(116*t_0 + 102, 207*t_0 + 182)}\n"
     ]
    }
   ],
   "source": [
    "import sympy\n",
    "from sympy import sympify\n",
    "from sympy.solvers.diophantine import diophantine\n",
    "\n",
    "print(diophantine(sympify('2691 * x- 1508 * y - 26')))"
   ]
  },
  {
   "cell_type": "markdown",
   "id": "49fb4e54",
   "metadata": {},
   "source": [
    "####Задание №2."
   ]
  },
  {
   "cell_type": "markdown",
   "id": "a0b5e514",
   "metadata": {},
   "source": [
    "Русское слово из четырех букв закодировано при помощи алгоритма RSA открытым ключом **(e = 7,m = 34)**. Шифрованное сообщение имеет вид **(9; 24; 22; 10)**. Подберите закрытую часть ключа и прочитайте исходное слово. Буквам русского алфавита соответсвуют числа в диапазоне от 2 до 32 (исключены буквы “e” и “ъ”)."
   ]
  },
  {
   "cell_type": "code",
   "execution_count": 8,
   "id": "49117423",
   "metadata": {},
   "outputs": [
    {
     "name": "stdout",
     "output_type": "stream",
     "text": [
      "скиф\n"
     ]
    }
   ],
   "source": [
    "from sympy.crypto.crypto import rsa_private_key, decipher_rsa\n",
    "\n",
    "key = rsa_private_key(34, 7)\n",
    "word = [9, 24, 22, 10]\n",
    "letters = ['а', 'б', 'в', 'г', 'д', 'е', 'ж', 'з', 'и', 'й', 'к', 'л', 'м', 'н', 'о', 'п', 'р', 'с', 'т', 'у', 'ф', 'х', 'ц', 'ч', 'ш', 'щ', 'ы', 'ь', 'э', 'ю', 'я']\n",
    "\n",
    "result = ''\n",
    "for i in word:\n",
    "    result += letters[decipher_rsa(i, key) - 2]\n",
    "print(result)"
   ]
  },
  {
   "cell_type": "markdown",
   "id": "002008ca",
   "metadata": {},
   "source": [
    "####Задание №3."
   ]
  },
  {
   "cell_type": "markdown",
   "id": "59f7bc49",
   "metadata": {},
   "source": [
    "f(x, y, z) = ((z xor y)y) xor ((y ∨ x) ∨ (xz))"
   ]
  },
  {
   "cell_type": "code",
   "execution_count": 9,
   "id": "4856d548",
   "metadata": {},
   "outputs": [
    {
     "name": "stdout",
     "output_type": "stream",
     "text": [
      "DNF:  (y & z) | (x & ~y)\n",
      "CNF:  (x | y) & (z | ~y)\n"
     ]
    }
   ],
   "source": [
    "from sympy.logic.boolalg import to_cnf\n",
    "from sympy.logic.boolalg import to_dnf\n",
    "from sympy.abc import x, y, z\n",
    "\n",
    "exp = (((z^y)&y)^((y|x)|(x&z)))\n",
    "print('DNF: ', to_dnf(exp, True))\n",
    "print('CNF: ', to_cnf(exp, True))"
   ]
  },
  {
   "cell_type": "markdown",
   "id": "8c2b61aa",
   "metadata": {},
   "source": [
    "###Вывод"
   ]
  },
  {
   "cell_type": "markdown",
   "id": "39fde9f7",
   "metadata": {},
   "source": [
    "При выполнении лабораторной работы была изучен и применен некоторый функционал библиотеки SymPy, а именно:\n",
    "1. Было решено диофантово уравнение\n",
    "2. С помощью алгоритма RSA декодировано зашифрованное сообщение\n",
    "3. Булевая функция была преобразована в дизъюнктивную и конъюктивную нормальные формы"
   ]
  }
 ],
 "metadata": {
  "kernelspec": {
   "display_name": "Python 3 (ipykernel)",
   "language": "python",
   "name": "python3"
  },
  "language_info": {
   "codemirror_mode": {
    "name": "ipython",
    "version": 3
   },
   "file_extension": ".py",
   "mimetype": "text/x-python",
   "name": "python",
   "nbconvert_exporter": "python",
   "pygments_lexer": "ipython3",
   "version": "3.9.7"
  }
 },
 "nbformat": 4,
 "nbformat_minor": 5
}